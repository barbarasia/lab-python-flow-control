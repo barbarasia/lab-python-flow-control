{
 "cells": [
  {
   "cell_type": "markdown",
   "id": "d3bfc191-8885-42ee-b0a0-bbab867c6f9f",
   "metadata": {
    "tags": []
   },
   "source": [
    "# Lab | Flow Control"
   ]
  },
  {
   "cell_type": "markdown",
   "id": "3851fcd1-cf98-4653-9c89-e003b7ec9400",
   "metadata": {},
   "source": [
    "## Exercise: Managing Customer Orders Optimized\n",
    "\n",
    "In the last lab, you were starting an online store that sells various products. To ensure smooth operations, you developed a program that manages customer orders and inventory.\n",
    "\n",
    "You did so without using flow control. Let's go a step further and improve this code.\n",
    "\n",
    "Follow the steps below to complete the exercise:\n",
    "\n",
    "1. Look at your code from the lab data structures, and improve repeated code with loops.\n",
    "\n",
    "2. Instead of asking the user to input the name of three products that a customer wants to order, do the following:\n",
    "    \n",
    "    a. Prompt the user to enter the name of a product that a customer wants to order.\n",
    "    \n",
    "    b. Add the product name to the \"customer_orders\" set.\n",
    "    \n",
    "    c. Ask the user if they want to add another product (yes/no).\n",
    "    \n",
    "    d. Continue the loop until the user does not want to add another product.\n",
    "\n",
    "3. Instead of updating the inventory by subtracting 1 from the quantity of each product, only do it for  the products that were ordered (those in \"customer_orders\")."
   ]
  },
  {
   "cell_type": "code",
   "execution_count": 1,
   "id": "4f8e43db-c157-4950-add0-0294627ae476",
   "metadata": {},
   "outputs": [
    {
     "name": "stdin",
     "output_type": "stream",
     "text": [
      "Indicate the quantity of desired t-shirt: 5\n",
      "Indicate the quantity of desired mug: 9\n",
      "Indicate the quantity of desired hat: 6\n",
      "Indicate the quantity of desired book: 4\n",
      "Indicate the quantity of desired keychain: 8\n"
     ]
    },
    {
     "name": "stdout",
     "output_type": "stream",
     "text": [
      "{'t-shirt': 5, 'mug': 9, 'hat': 6, 'book': 4, 'keychain': 8}\n"
     ]
    }
   ],
   "source": [
    "products = [\"t-shirt\", \"mug\", \"hat\", \"book\", \"keychain\"]\n",
    "inventory = {}\n",
    "for product in products:\n",
    "    quantity = int(input(\"Indicate the quantity of desired \" + product + \":\"))\n",
    "    inventory[product] = quantity\n",
    "print (inventory)"
   ]
  },
  {
   "cell_type": "code",
   "execution_count": 2,
   "id": "868e70c9-ea56-4a8b-aa4c-ba4e67f5f860",
   "metadata": {
    "jp-MarkdownHeadingCollapsed": true
   },
   "outputs": [
    {
     "name": "stdin",
     "output_type": "stream",
     "text": [
      "Enter a product you want to order:  mug\n",
      "Do you want to add a product? yes\n",
      "Enter a product you want to order:  hat\n",
      "Do you want to add a product? yes\n",
      "Enter a product you want to order:  book\n",
      "Do you want to add a product? no\n"
     ]
    },
    {
     "name": "stdout",
     "output_type": "stream",
     "text": [
      "{'book', 'mug', 'hat'}\n"
     ]
    }
   ],
   "source": [
    "customer_orders = set()\n",
    "while True:\n",
    "    product = input(\"Enter a product you want to order: \")\n",
    "    customer_orders.add(product) \n",
    "    question = input(\"Do you want to add a product?\")\n",
    "    if question.lower() == \"no\":\n",
    "        break\n",
    "print(customer_orders)"
   ]
  },
  {
   "cell_type": "code",
   "execution_count": 4,
   "id": "d0166b18-8765-4451-a9a2-d8b2fa6a1cd4",
   "metadata": {
    "jp-MarkdownHeadingCollapsed": true
   },
   "outputs": [
    {
     "name": "stdout",
     "output_type": "stream",
     "text": [
      "{'t-shirt': 5, 'mug': 8, 'hat': 5, 'book': 3, 'keychain': 8}\n"
     ]
    }
   ],
   "source": [
    "for product, quantity in inventory.items():\n",
    "    if product in list(customer_orders):\n",
    "        inventory[product] -= 1\n",
    "print(inventory)\n"
   ]
  }
 ],
 "metadata": {
  "kernelspec": {
   "display_name": "Python 3 (ipykernel)",
   "language": "python",
   "name": "python3"
  },
  "language_info": {
   "codemirror_mode": {
    "name": "ipython",
    "version": 3
   },
   "file_extension": ".py",
   "mimetype": "text/x-python",
   "name": "python",
   "nbconvert_exporter": "python",
   "pygments_lexer": "ipython3",
   "version": "3.11.7"
  }
 },
 "nbformat": 4,
 "nbformat_minor": 5
}
